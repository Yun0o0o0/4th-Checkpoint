{
 "cells": [
  {
   "cell_type": "code",
   "execution_count": 1,
   "id": "91b658b4",
   "metadata": {},
   "outputs": [],
   "source": [
    "#question1"
   ]
  },
  {
   "cell_type": "code",
   "execution_count": 2,
   "id": "bf265aae",
   "metadata": {},
   "outputs": [],
   "source": [
    "def maxim(a,b,c):\n",
    "    if(a>=b)and(a>=c):\n",
    "        larg=a\n",
    "    elif(b>=a)and(b>=c):\n",
    "        larg=b\n",
    "    else:\n",
    "        larg=c          \n",
    "    return larg"
   ]
  },
  {
   "cell_type": "code",
   "execution_count": 3,
   "id": "39afcec1",
   "metadata": {},
   "outputs": [
    {
     "data": {
      "text/plain": [
       "35"
      ]
     },
     "execution_count": 3,
     "metadata": {},
     "output_type": "execute_result"
    }
   ],
   "source": [
    "maxim(20,35,19)"
   ]
  },
  {
   "cell_type": "code",
   "execution_count": 4,
   "id": "e7118fb3",
   "metadata": {},
   "outputs": [],
   "source": [
    "#question2"
   ]
  },
  {
   "cell_type": "code",
   "execution_count": 7,
   "id": "70ab20aa",
   "metadata": {},
   "outputs": [],
   "source": [
    "def func(n1,n2):\n",
    "    plus=n1+n2\n",
    "    minus=n1-n2\n",
    "    return plus,minus"
   ]
  },
  {
   "cell_type": "code",
   "execution_count": 10,
   "id": "746f3d5e",
   "metadata": {},
   "outputs": [
    {
     "data": {
      "text/plain": [
       "(50, 30)"
      ]
     },
     "execution_count": 10,
     "metadata": {},
     "output_type": "execute_result"
    }
   ],
   "source": [
    "func(40,10)"
   ]
  },
  {
   "cell_type": "code",
   "execution_count": 9,
   "id": "f56baa4e",
   "metadata": {},
   "outputs": [],
   "source": [
    "#question3"
   ]
  },
  {
   "cell_type": "code",
   "execution_count": 4,
   "id": "8f47c36b",
   "metadata": {},
   "outputs": [
    {
     "name": "stdout",
     "output_type": "stream",
     "text": [
      "24\n"
     ]
    }
   ],
   "source": [
    "def mult(mylist1):\n",
    "    result=1\n",
    "    for x in mylist1:\n",
    "         result=result*x\n",
    "    return result\n",
    "list=[1,2,3,4]\n",
    "print(mult(list))"
   ]
  },
  {
   "cell_type": "code",
   "execution_count": 5,
   "id": "1aa7d6d1",
   "metadata": {},
   "outputs": [
    {
     "name": "stdout",
     "output_type": "stream",
     "text": [
      "11\n"
     ]
    }
   ],
   "source": [
    "def plus(mylist2):\n",
    "    result=1\n",
    "    for x in mylist2:\n",
    "         result=result+x\n",
    "    return result\n",
    "list=[1,2,3,4]\n",
    "print(plus(list))"
   ]
  },
  {
   "cell_type": "code",
   "execution_count": 14,
   "id": "5a12c343",
   "metadata": {},
   "outputs": [
    {
     "name": "stdout",
     "output_type": "stream",
     "text": [
      "(0, 1)\n",
      "(1, 2)\n",
      "(2, 3)\n",
      "(3, 4)\n",
      "(4, 5)\n",
      "0 1\n",
      "1 2\n",
      "2 3\n",
      "3 4\n",
      "4 5\n",
      "[1, 3, 5] [2, 4]\n"
     ]
    }
   ],
   "source": [
    "l=[1,2,3,4,5]\n",
    "l1=[]\n",
    "l2=[]\n",
    "for a in enumerate([1,2,3,4,5]):\n",
    "    print(a)\n",
    "for p, a in enumerate([1,2,3,4,5]):\n",
    "    print(p, a)\n",
    "for p, a in enumerate([1,2,3,4,5]):\n",
    "    if p %2 ==0:\n",
    "        l1.append(a)\n",
    "    elif p %2 !=0:\n",
    "        l2.append(a)\n",
    "print(l1, l2)                "
   ]
  },
  {
   "cell_type": "code",
   "execution_count": 15,
   "id": "796ffbb5",
   "metadata": {},
   "outputs": [],
   "source": [
    "#question4"
   ]
  },
  {
   "cell_type": "code",
   "execution_count": 20,
   "id": "9720ea46",
   "metadata": {},
   "outputs": [
    {
     "name": "stdout",
     "output_type": "stream",
     "text": [
      "enter smthng: green-red-yellow-black-white\n",
      "black-green-red-white-yellow\n"
     ]
    }
   ],
   "source": [
    "n=input(\"enter smthng: \") \n",
    "v=n.split('-') \n",
    "v.sort() \n",
    "print('-'.join(v))"
   ]
  },
  {
   "cell_type": "code",
   "execution_count": 21,
   "id": "6aa042c0",
   "metadata": {},
   "outputs": [],
   "source": [
    "#question5"
   ]
  },
  {
   "cell_type": "code",
   "execution_count": null,
   "id": "7326dc0a",
   "metadata": {},
   "outputs": [],
   "source": [
    "def calc(D):\n",
    "    C=50\n",
    "    H=30\n",
    "result=((1.0)*(2 * C * D)/H)**(0.5)\n",
    "return str(int(result))\n",
    "inumbrs = input(\"type nmbrs: \")\n",
    "result=[]\n",
    "for num in inumbrs.split(','):\n",
    "    intnum=int(num)\n",
    "    t=calc(intnum)\n",
    "    result.append(t)\n",
    "print(','.join(result))"
   ]
  }
 ],
 "metadata": {
  "kernelspec": {
   "display_name": "Python 3 (ipykernel)",
   "language": "python",
   "name": "python3"
  },
  "language_info": {
   "codemirror_mode": {
    "name": "ipython",
    "version": 3
   },
   "file_extension": ".py",
   "mimetype": "text/x-python",
   "name": "python",
   "nbconvert_exporter": "python",
   "pygments_lexer": "ipython3",
   "version": "3.9.12"
  }
 },
 "nbformat": 4,
 "nbformat_minor": 5
}
